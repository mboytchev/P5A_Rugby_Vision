{
 "cells": [
  {
   "cell_type": "code",
   "execution_count": 5,
   "metadata": {},
   "outputs": [],
   "source": [
    "from ultralytics import YOLO\n",
    "\n",
    "model = YOLO('yolov8n.pt')  # Utiliser un modèle de base, ou remplacer par un modèle personnalisé\n"
   ]
  },
  {
   "cell_type": "code",
   "execution_count": 2,
   "metadata": {},
   "outputs": [
    {
     "name": "stdout",
     "output_type": "stream",
     "text": [
      "Dimensions de la vidéo : 1920x1080, FPS : 30\n",
      "Fin de la vidéo ou erreur de lecture.\n",
      "Video processed and saved successfully.\n"
     ]
    }
   ],
   "source": [
    "#### ANALYSE DES PIXELS FRAME PAR FRAME\n",
    "import cv2\n",
    "import numpy as np\n",
    "\n",
    "video_path = 'penalty5.mp4'\n",
    "cap = cv2.VideoCapture(video_path)\n",
    "\n",
    "if not cap.isOpened():\n",
    "    print(\"Erreur: Impossible de lire la vidéo.\")\n",
    "    exit()\n",
    "\n",
    "width = int(cap.get(cv2.CAP_PROP_FRAME_WIDTH))\n",
    "height = int(cap.get(cv2.CAP_PROP_FRAME_HEIGHT))\n",
    "fps = int(cap.get(cv2.CAP_PROP_FPS))\n",
    "\n",
    "print(f\"Dimensions de la vidéo : {width}x{height}, FPS : {fps}\")\n",
    "\n",
    "output_path = 'penalty5_pixel.mp4'  \n",
    "fourcc = cv2.VideoWriter_fourcc(*'H264')  # Utiliser XVID comme codec\n",
    "out = cv2.VideoWriter(output_path, fourcc, fps, (width, height))\n",
    "\n",
    "frame_count = 0\n",
    "prev_frame = None\n",
    "\n",
    "while True:\n",
    "    # Lire la frame actuelle\n",
    "    ret, frame = cap.read()\n",
    "\n",
    "    # Si la vidéo est terminée, quitter\n",
    "    if not ret:\n",
    "        print(\"Fin de la vidéo ou erreur de lecture.\")\n",
    "        break\n",
    "\n",
    "    # Convertir en niveaux de gris pour simplifier la détection de variations\n",
    "    gray_frame = cv2.cvtColor(frame, cv2.COLOR_BGR2GRAY)\n",
    "\n",
    "    if prev_frame is not None:\n",
    "        # Calculer la différence absolue entre la frame actuelle et la précédente\n",
    "        diff = cv2.absdiff(prev_frame, gray_frame)\n",
    "\n",
    "        # Appliquer un seuil pour créer une image binaire (pour détecter des changements significatifs)\n",
    "        _, thresh = cv2.threshold(diff, 25, 255, cv2.THRESH_BINARY)\n",
    "\n",
    "        # Trouver les contours des zones où il y a des différences\n",
    "        contours, _ = cv2.findContours(thresh, cv2.RETR_EXTERNAL, cv2.CHAIN_APPROX_SIMPLE)\n",
    "\n",
    "        # Dessiner les contours sur la frame originale (en couleur)\n",
    "        annotated_frame = frame.copy()\n",
    "        cv2.drawContours(annotated_frame, contours, -1, (0, 255, 0), 2)\n",
    "\n",
    "        # Si une variation importante est détectée, ajouter une annotation texte\n",
    "        if np.sum(diff) > 5000:  # seuil arbitraire\n",
    "            cv2.putText(annotated_frame, f\"Variation detected at frame {frame_count}\", (10, 30),\n",
    "                        cv2.FONT_HERSHEY_SIMPLEX, 0.8, (0, 0, 255), 2)\n",
    "\n",
    "        # Enregistrer la frame annotée dans le fichier vidéo\n",
    "        out.write(annotated_frame)\n",
    "\n",
    "    # Mettre à jour la frame précédente\n",
    "    prev_frame = gray_frame\n",
    "    frame_count += 1\n",
    "\n",
    "# Libérer les ressources\n",
    "cap.release()\n",
    "out.release()\n",
    "cv2.destroyAllWindows()\n",
    "\n",
    "print(\"Video processed and saved successfully.\")\n"
   ]
  }
 ],
 "metadata": {
  "kernelspec": {
   "display_name": "Python 3",
   "language": "python",
   "name": "python3"
  },
  "language_info": {
   "codemirror_mode": {
    "name": "ipython",
    "version": 3
   },
   "file_extension": ".py",
   "mimetype": "text/x-python",
   "name": "python",
   "nbconvert_exporter": "python",
   "pygments_lexer": "ipython3",
   "version": "3.12.7"
  }
 },
 "nbformat": 4,
 "nbformat_minor": 2
}
